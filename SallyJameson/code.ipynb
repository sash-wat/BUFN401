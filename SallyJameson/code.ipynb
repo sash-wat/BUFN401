{
 "cells": [
  {
   "cell_type": "code",
   "execution_count": 101,
   "metadata": {},
   "outputs": [],
   "source": [
    "import pandas as pd\n",
    "import numpy as np\n",
    "import matplotlib.pyplot as plt\n",
    "import math\n",
    "from scipy.stats import norm"
   ]
  },
  {
   "cell_type": "code",
   "execution_count": 102,
   "metadata": {},
   "outputs": [
    {
     "data": {
      "text/html": [
       "<div>\n",
       "<style scoped>\n",
       "    .dataframe tbody tr th:only-of-type {\n",
       "        vertical-align: middle;\n",
       "    }\n",
       "\n",
       "    .dataframe tbody tr th {\n",
       "        vertical-align: top;\n",
       "    }\n",
       "\n",
       "    .dataframe thead th {\n",
       "        text-align: right;\n",
       "    }\n",
       "</style>\n",
       "<table border=\"1\" class=\"dataframe\">\n",
       "  <thead>\n",
       "    <tr style=\"text-align: right;\">\n",
       "      <th></th>\n",
       "      <th>Date</th>\n",
       "      <th>Open</th>\n",
       "      <th>High</th>\n",
       "      <th>Low</th>\n",
       "      <th>Close</th>\n",
       "      <th>Adj Close</th>\n",
       "      <th>Volume</th>\n",
       "      <th>Log Return</th>\n",
       "    </tr>\n",
       "  </thead>\n",
       "  <tbody>\n",
       "    <tr>\n",
       "      <th>0</th>\n",
       "      <td>2002-01-01</td>\n",
       "      <td>33.325001</td>\n",
       "      <td>35.009998</td>\n",
       "      <td>32.755001</td>\n",
       "      <td>34.279999</td>\n",
       "      <td>22.054296</td>\n",
       "      <td>226955000</td>\n",
       "      <td>NaN</td>\n",
       "    </tr>\n",
       "    <tr>\n",
       "      <th>1</th>\n",
       "      <td>2002-01-08</td>\n",
       "      <td>34.345001</td>\n",
       "      <td>35.310001</td>\n",
       "      <td>33.869999</td>\n",
       "      <td>34.235001</td>\n",
       "      <td>22.025352</td>\n",
       "      <td>298328000</td>\n",
       "      <td>-0.001313</td>\n",
       "    </tr>\n",
       "    <tr>\n",
       "      <th>2</th>\n",
       "      <td>2002-01-15</td>\n",
       "      <td>34.330002</td>\n",
       "      <td>35.000000</td>\n",
       "      <td>32.709999</td>\n",
       "      <td>33.049999</td>\n",
       "      <td>21.262959</td>\n",
       "      <td>308771200</td>\n",
       "      <td>-0.035228</td>\n",
       "    </tr>\n",
       "    <tr>\n",
       "      <th>3</th>\n",
       "      <td>2002-01-22</td>\n",
       "      <td>33.305000</td>\n",
       "      <td>33.314999</td>\n",
       "      <td>31.455000</td>\n",
       "      <td>31.910000</td>\n",
       "      <td>20.529537</td>\n",
       "      <td>331729400</td>\n",
       "      <td>-0.035102</td>\n",
       "    </tr>\n",
       "    <tr>\n",
       "      <th>4</th>\n",
       "      <td>2002-01-29</td>\n",
       "      <td>31.950001</td>\n",
       "      <td>32.250000</td>\n",
       "      <td>30.375000</td>\n",
       "      <td>30.559999</td>\n",
       "      <td>19.661007</td>\n",
       "      <td>328102800</td>\n",
       "      <td>-0.043227</td>\n",
       "    </tr>\n",
       "  </tbody>\n",
       "</table>\n",
       "</div>"
      ],
      "text/plain": [
       "        Date       Open       High        Low      Close  Adj Close  \\\n",
       "0 2002-01-01  33.325001  35.009998  32.755001  34.279999  22.054296   \n",
       "1 2002-01-08  34.345001  35.310001  33.869999  34.235001  22.025352   \n",
       "2 2002-01-15  34.330002  35.000000  32.709999  33.049999  21.262959   \n",
       "3 2002-01-22  33.305000  33.314999  31.455000  31.910000  20.529537   \n",
       "4 2002-01-29  31.950001  32.250000  30.375000  30.559999  19.661007   \n",
       "\n",
       "      Volume  Log Return  \n",
       "0  226955000         NaN  \n",
       "1  298328000   -0.001313  \n",
       "2  308771200   -0.035228  \n",
       "3  331729400   -0.035102  \n",
       "4  328102800   -0.043227  "
      ]
     },
     "execution_count": 102,
     "metadata": {},
     "output_type": "execute_result"
    }
   ],
   "source": [
    "df = pd.read_excel(\"1b) ItosDelightSolutions.xlsx\", skiprows=3, sheet_name=\"MSFT Stock Data\")\n",
    "df = df.loc[df['Date'] < pd.to_datetime(\"01/01/2003\")]\n",
    "df.head()"
   ]
  },
  {
   "cell_type": "code",
   "execution_count": 103,
   "metadata": {},
   "outputs": [
    {
     "data": {
      "text/plain": [
       "0.3490336310678408"
      ]
     },
     "execution_count": 103,
     "metadata": {},
     "output_type": "execute_result"
    }
   ],
   "source": [
    "sigma = np.std(df['Log Return']) * math.sqrt(52)\n",
    "sigma"
   ]
  },
  {
   "cell_type": "code",
   "execution_count": 104,
   "metadata": {},
   "outputs": [],
   "source": [
    "def find_d1(s, k, r, t, sigma):\n",
    "    t1 = math.log(s/k)\n",
    "    t2 = (sigma**2)/2\n",
    "    t3 = (r + t2)*t\n",
    "    t4 = sigma*math.sqrt(t)\n",
    "    return (t1+t3)/t4\n",
    "\n",
    "def find_d2(s, k, r, t, sigma):\n",
    "    d1 = find_d1(s, k, r, t, sigma)\n",
    "    return d1 - sigma*math.sqrt(t)\n",
    "    \n",
    "\n",
    "def black_scholes_call(s, k, r, t, sigma):\n",
    "    return (s*norm.cdf(find_d1(s,k,r,t,sigma))) - (k*math.exp(-1*r*t)*norm.cdf(find_d2(s,k,r,t,sigma)))\n",
    "    "
   ]
  },
  {
   "cell_type": "code",
   "execution_count": 105,
   "metadata": {},
   "outputs": [
    {
     "data": {
      "text/plain": [
       "6770.41"
      ]
     },
     "execution_count": 105,
     "metadata": {},
     "output_type": "execute_result"
    }
   ],
   "source": [
    "round(5000*((1+0.0625)**5), 2)"
   ]
  },
  {
   "cell_type": "code",
   "execution_count": 106,
   "metadata": {},
   "outputs": [
    {
     "data": {
      "text/plain": [
       "3.7905572260500264"
      ]
     },
     "execution_count": 106,
     "metadata": {},
     "output_type": "execute_result"
    }
   ],
   "source": [
    "call_price = black_scholes_call(18.75, 35, 0.062, 5, sigma)\n",
    "call_price"
   ]
  },
  {
   "cell_type": "code",
   "execution_count": 107,
   "metadata": {},
   "outputs": [
    {
     "data": {
      "text/plain": [
       "5.85347194125956"
      ]
     },
     "execution_count": 107,
     "metadata": {},
     "output_type": "execute_result"
    }
   ],
   "source": [
    "0.4*sigma*math.sqrt(5)*18.75"
   ]
  },
  {
   "cell_type": "code",
   "execution_count": 108,
   "metadata": {},
   "outputs": [
    {
     "data": {
      "text/plain": [
       "11371.67167815008"
      ]
     },
     "execution_count": 108,
     "metadata": {},
     "output_type": "execute_result"
    }
   ],
   "source": [
    "call_price*3000"
   ]
  }
 ],
 "metadata": {
  "kernelspec": {
   "display_name": "base",
   "language": "python",
   "name": "python3"
  },
  "language_info": {
   "codemirror_mode": {
    "name": "ipython",
    "version": 3
   },
   "file_extension": ".py",
   "mimetype": "text/x-python",
   "name": "python",
   "nbconvert_exporter": "python",
   "pygments_lexer": "ipython3",
   "version": "3.8.8"
  }
 },
 "nbformat": 4,
 "nbformat_minor": 2
}
