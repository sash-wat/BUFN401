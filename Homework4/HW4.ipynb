{
 "cells": [
  {
   "cell_type": "code",
   "execution_count": 18,
   "metadata": {},
   "outputs": [],
   "source": [
    "import pandas as pd\n",
    "import numpy as np\n",
    "import json"
   ]
  },
  {
   "cell_type": "code",
   "execution_count": 19,
   "metadata": {},
   "outputs": [],
   "source": [
    "class Node():\n",
    "    def  __init__(self, \n",
    "                  s        = None, \n",
    "                  leftchild  = None,\n",
    "                  rightchild = None,\n",
    "                  f = None):\n",
    "        self.s        = s\n",
    "        self.leftchild  = leftchild\n",
    "        self.rightchild = rightchild\n",
    "        self.f = f\n",
    "\n",
    "def dump(root: Node) -> str:\n",
    "    def _to_dict(node) -> dict:    \n",
    "        return {\n",
    "            \"stock price\": node.s,\n",
    "            \"option price\": node.f,\n",
    "            \"down\": (_to_dict(node.leftchild) if node.leftchild is not None else None),\n",
    "            \"up\": (_to_dict(node.rightchild) if node.rightchild is not None else None)\n",
    "        }\n",
    "    if root == None:\n",
    "        dict_repr = {}\n",
    "    else:\n",
    "        dict_repr = _to_dict(root)\n",
    "    return json.dumps(dict_repr)"
   ]
  },
  {
   "cell_type": "code",
   "execution_count": 20,
   "metadata": {},
   "outputs": [
    {
     "data": {
      "text/plain": [
       "'{\"stock price\": 50, \"option price\": 45, \"down\": {\"stock price\": 40, \"option price\": 40, \"down\": null, \"up\": null}, \"up\": {\"stock price\": 60, \"option price\": 50, \"down\": null, \"up\": null}}'"
      ]
     },
     "execution_count": 20,
     "metadata": {},
     "output_type": "execute_result"
    }
   ],
   "source": [
    "t = Node(s=50, f=45)\n",
    "t.leftchild = Node(s=40, f=40)\n",
    "t.rightchild = Node(s=60, f=50)\n",
    "dump(t)"
   ]
  }
 ],
 "metadata": {
  "kernelspec": {
   "display_name": "base",
   "language": "python",
   "name": "python3"
  },
  "language_info": {
   "codemirror_mode": {
    "name": "ipython",
    "version": 3
   },
   "file_extension": ".py",
   "mimetype": "text/x-python",
   "name": "python",
   "nbconvert_exporter": "python",
   "pygments_lexer": "ipython3",
   "version": "3.8.8"
  }
 },
 "nbformat": 4,
 "nbformat_minor": 2
}
