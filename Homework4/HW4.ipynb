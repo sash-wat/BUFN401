{
 "cells": [
  {
   "cell_type": "code",
   "execution_count": 84,
   "metadata": {},
   "outputs": [],
   "source": [
    "import pandas as pd\n",
    "import numpy as np\n",
    "import json\n",
    "import math\n",
    "import matplotlib.pyplot as plt\n",
    "from scipy.stats import norm"
   ]
  },
  {
   "cell_type": "markdown",
   "metadata": {},
   "source": [
    "# Question 4"
   ]
  },
  {
   "cell_type": "code",
   "execution_count": 85,
   "metadata": {},
   "outputs": [
    {
     "name": "stdout",
     "output_type": "stream",
     "text": [
      "n_values: [1, 2]\n",
      "European (And American!) Call Option Values at time 0:\n",
      "n = 1: 14.25069537531316\n",
      "n = 2: 12.319698919608822\n"
     ]
    }
   ],
   "source": [
    "s0 = 100\n",
    "k = 100\n",
    "t = 1\n",
    "r = 0.1\n",
    "sigma = 0.2\n",
    "\n",
    "n_values = [2**i for i in range(0, 2)]\n",
    "\n",
    "C0_values = []\n",
    "\n",
    "\n",
    "for n in n_values:\n",
    "    dt = t / n\n",
    "    u = np.exp(sigma * np.sqrt(dt))\n",
    "    d = 1 / u\n",
    "    \n",
    "    p = (np.exp(r * dt) - d) / (u - d)\n",
    "    \n",
    "    S_values = np.array([s0 * u**j * d**(n - j) for j in range(n + 1)]) \n",
    "    # The above line makes a matrix of stock values\n",
    "    \n",
    "    C_values = np.maximum(0, S_values - k)\n",
    "    #The above line makes a matrix of call option payoffs\n",
    "    \n",
    "    c0 = np.exp(-r * t) * np.sum(np.array([np.math.comb(n, j) * p**j * (1 - p)**(n - j) * C_values[j] for j in range(n + 1)]))\n",
    "    \n",
    "    C0_values.append(c0)\n",
    "\n",
    "print(\"n_values:\", n_values)\n",
    "print(\"European (And American!) Call Option Values at time 0:\")\n",
    "for i, n in enumerate(n_values):\n",
    "    print(f\"n = {n}: {C0_values[i]}\")"
   ]
  },
  {
   "cell_type": "code",
   "execution_count": 86,
   "metadata": {},
   "outputs": [
    {
     "name": "stdout",
     "output_type": "stream",
     "text": [
      "n_values: [1, 2]\n",
      "European Put Option Values at time 0:\n",
      "n = 1: 4.7344371789091095\n",
      "n = 2: 2.8034407232047682\n"
     ]
    }
   ],
   "source": [
    "C0_values = []\n",
    "for n in n_values:\n",
    "    dt = t / n\n",
    "    u = np.exp(sigma * np.sqrt(dt))\n",
    "    d = 1 / u\n",
    "    \n",
    "    p = (np.exp(r * dt) - d) / (u - d)\n",
    "    \n",
    "    S_values = np.array([s0 * u**j * d**(n - j) for j in range(n + 1)]) \n",
    "    # The above line makes a matrix of stock values\n",
    "    \n",
    "    C_values = np.maximum(0, k-S_values)\n",
    "    #The above line makes a matrix of call option payoffs\n",
    "    \n",
    "    c0 = np.exp(-r * t) * np.sum(np.array([np.math.comb(n, j) * p**j * (1 - p)**(n - j) * C_values[j] for j in range(n + 1)]))\n",
    "    \n",
    "    C0_values.append(c0)\n",
    "\n",
    "print(\"n_values:\", n_values)\n",
    "print(\"European Put Option Values at time 0:\")\n",
    "for i, n in enumerate(n_values):\n",
    "    print(f\"n = {n}: {C0_values[i]}\")"
   ]
  },
  {
   "cell_type": "markdown",
   "metadata": {},
   "source": [
    "# Question 5"
   ]
  },
  {
   "cell_type": "code",
   "execution_count": 87,
   "metadata": {},
   "outputs": [
    {
     "name": "stdout",
     "output_type": "stream",
     "text": [
      "The Black-Scholes Price of the call option should be $ 13.27\n"
     ]
    }
   ],
   "source": [
    "def blsc_price(s, k, r, t, sigma):\n",
    "    d1_p1 = math.log(s/k)\n",
    "    d1_p2 = (r + ((sigma**2)/2))*t\n",
    "    d1_p3 = sigma * math.sqrt(t)\n",
    "    d1 = (d1_p1 + d1_p2)/d1_p3\n",
    "    d2 = d1 - (sigma*math.sqrt(t))\n",
    "\n",
    "    t1 = norm.cdf(d1) * s\n",
    "    t2 = norm.cdf(d2)\n",
    "    t3 = k * math.exp(-r*t)\n",
    "    return t1 - (t2*t3)\n",
    "print(\"The Black-Scholes Price of the call option should be $\", round(blsc_price(100, 100, 0.1, 1, 0.2), 2))"
   ]
  },
  {
   "cell_type": "markdown",
   "metadata": {},
   "source": [
    "### European Call"
   ]
  },
  {
   "cell_type": "code",
   "execution_count": 88,
   "metadata": {},
   "outputs": [
    {
     "name": "stdout",
     "output_type": "stream",
     "text": [
      "n_values: [1, 2, 4, 8, 16, 32, 64, 128]\n",
      "European Call Option Values at time 0:\n",
      "n = 1: 14.25069537531316\n",
      "n = 2: 12.319698919608822\n",
      "n = 4: 12.768397009236656\n",
      "n = 8: 13.013324428182633\n",
      "n = 16: 13.140257148984583\n",
      "n = 32: 13.204683640826197\n",
      "n = 64: 13.237112974069197\n",
      "n = 128: 13.253378463533226\n"
     ]
    },
    {
     "data": {
      "image/png": "[encoded data removed]",
      "text/plain": [
       "<Figure size 640x480 with 1 Axes>"
      ]
     },
     "metadata": {},
     "output_type": "display_data"
    }
   ],
   "source": [
    "s0 = 100\n",
    "k = 100\n",
    "t = 1\n",
    "r = 0.1\n",
    "sigma = 0.2\n",
    "\n",
    "n_values = [2**i for i in range(0, 8)]\n",
    "\n",
    "C0_values = []\n",
    "\n",
    "\n",
    "for n in n_values:\n",
    "    dt = t / n\n",
    "    u = np.exp(sigma * np.sqrt(dt))\n",
    "    #print(\"u\", u)\n",
    "    d = 1 / u\n",
    "    #print(\"d\", d)\n",
    "    \n",
    "    p = (np.exp(r * dt) - d) / (u - d)\n",
    "    #print(\"p\", p)\n",
    "    \n",
    "    S_values = np.array([s0 * u**j * d**(n - j) for j in range(n + 1)]) \n",
    "    # The above line makes a matrix of stock values\n",
    "    \n",
    "    C_values = np.maximum(0, S_values - k)\n",
    "    #The above line makes a matrix of call option payoffs\n",
    "    \n",
    "    c0 = np.exp(-r * t) * np.sum(np.array([np.math.comb(n, j) * p**j * (1 - p)**(n - j) * C_values[j] for j in range(n + 1)]))\n",
    "    \n",
    "    C0_values.append(c0)\n",
    "\n",
    "print(\"n_values:\", n_values)\n",
    "print(\"European Call Option Values at time 0:\")\n",
    "for i, n in enumerate(n_values):\n",
    "    print(f\"n = {n}: {C0_values[i]}\")\n",
    "\n",
    "plt.scatter(n_values, C0_values)\n",
    "plt.axhline(y = round(blsc_price(100, 100, 0.1, 1, 0.2), 2), color = 'r', linestyle = '-') \n",
    "# This horizontal line represents the Black-Scholes price of the call option\n",
    "plt.xlabel(\"Value of n\")\n",
    "plt.ylabel(\"Call Option Price ($)\")\n",
    "plt.title(\"Call Option Price ($) vs. Value of n\")\n",
    "plt.show()\n"
   ]
  },
  {
   "cell_type": "code",
   "execution_count": 89,
   "metadata": {},
   "outputs": [
    {
     "data": {
      "text/html": [
       "<div>\n",
       "<style scoped>\n",
       "    .dataframe tbody tr th:only-of-type {\n",
       "        vertical-align: middle;\n",
       "    }\n",
       "\n",
       "    .dataframe tbody tr th {\n",
       "        vertical-align: top;\n",
       "    }\n",
       "\n",
       "    .dataframe thead th {\n",
       "        text-align: right;\n",
       "    }\n",
       "</style>\n",
       "<table border=\"1\" class=\"dataframe\">\n",
       "  <thead>\n",
       "    <tr style=\"text-align: right;\">\n",
       "      <th></th>\n",
       "      <th>n</th>\n",
       "      <th>Percent Error</th>\n",
       "    </tr>\n",
       "  </thead>\n",
       "  <tbody>\n",
       "    <tr>\n",
       "      <th>0</th>\n",
       "      <td>1</td>\n",
       "      <td>7.392937</td>\n",
       "    </tr>\n",
       "    <tr>\n",
       "      <th>1</th>\n",
       "      <td>2</td>\n",
       "      <td>-7.159011</td>\n",
       "    </tr>\n",
       "    <tr>\n",
       "      <th>2</th>\n",
       "      <td>4</td>\n",
       "      <td>-3.777632</td>\n",
       "    </tr>\n",
       "    <tr>\n",
       "      <th>3</th>\n",
       "      <td>8</td>\n",
       "      <td>-1.931864</td>\n",
       "    </tr>\n",
       "    <tr>\n",
       "      <th>4</th>\n",
       "      <td>16</td>\n",
       "      <td>-0.975302</td>\n",
       "    </tr>\n",
       "    <tr>\n",
       "      <th>5</th>\n",
       "      <td>32</td>\n",
       "      <td>-0.489785</td>\n",
       "    </tr>\n",
       "    <tr>\n",
       "      <th>6</th>\n",
       "      <td>64</td>\n",
       "      <td>-0.245399</td>\n",
       "    </tr>\n",
       "    <tr>\n",
       "      <th>7</th>\n",
       "      <td>128</td>\n",
       "      <td>-0.122822</td>\n",
       "    </tr>\n",
       "  </tbody>\n",
       "</table>\n",
       "</div>"
      ],
      "text/plain": [
       "     n  Percent Error\n",
       "0    1       7.392937\n",
       "1    2      -7.159011\n",
       "2    4      -3.777632\n",
       "3    8      -1.931864\n",
       "4   16      -0.975302\n",
       "5   32      -0.489785\n",
       "6   64      -0.245399\n",
       "7  128      -0.122822"
      ]
     },
     "execution_count": 89,
     "metadata": {},
     "output_type": "execute_result"
    }
   ],
   "source": [
    "errors = ((C0_values - blsc_price(100, 100, 0.1, 1, 0.2))/blsc_price(100, 100, 0.1, 1, 0.2) )*100\n",
    "\n",
    "errorsdf = pd.DataFrame({'n': n_values, 'Percent Error': errors})\n",
    "errorsdf"
   ]
  },
  {
   "cell_type": "code",
   "execution_count": 90,
   "metadata": {},
   "outputs": [
    {
     "data": {
      "image/png": "[encoded data removed]",
      "text/plain": [
       "<Figure size 640x480 with 1 Axes>"
      ]
     },
     "metadata": {},
     "output_type": "display_data"
    }
   ],
   "source": [
    "plt.scatter(n_values, (C0_values - blsc_price(100, 100, 0.1, 1, 0.2)))\n",
    "plt.ylabel(\"Absolute Error, USD\")\n",
    "plt.xlabel(\"n\")\n",
    "plt.axhline(y = 0, color = 'r', linestyle = '-') \n",
    "plt.title(\"Absolute Error (Binomial Model to Black-Scholes) vs. Value of n\")\n",
    "plt.show()"
   ]
  }
 ],
 "metadata": {
  "kernelspec": {
   "display_name": "base",
   "language": "python",
   "name": "python3"
  },
  "language_info": {
   "codemirror_mode": {
    "name": "ipython",
    "version": 3
   },
   "file_extension": ".py",
   "mimetype": "text/x-python",
   "name": "python",
   "nbconvert_exporter": "python",
   "pygments_lexer": "ipython3",
   "version": "3.8.8"
  }
 },
 "nbformat": 4,
 "nbformat_minor": 2
}
