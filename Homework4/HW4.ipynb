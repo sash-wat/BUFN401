{
 "cells": [
  {
   "cell_type": "code",
   "execution_count": 150,
   "metadata": {},
   "outputs": [],
   "source": [
    "import pandas as pd\n",
    "import numpy as np\n",
    "import json\n",
    "import math"
   ]
  },
  {
   "cell_type": "code",
   "execution_count": 151,
   "metadata": {},
   "outputs": [],
   "source": [
    "class Node():\n",
    "    def  __init__(self, \n",
    "                  s        = None, \n",
    "                  leftchild  = None,\n",
    "                  rightchild = None,\n",
    "                  f = None,\n",
    "                  payoff = None):\n",
    "        self.s        = s\n",
    "        self.leftchild  = leftchild\n",
    "        self.rightchild = rightchild\n",
    "        self.f = f\n",
    "        self.payoff = payoff\n",
    "\n",
    "def print_tree(node, level=0, prefix=\"Root: \"):\n",
    "    if node is not None:\n",
    "        print(\" \" * (level * 4) + prefix + str(node.s) + \", Option Price=\" + str(node.f) + \", payoff=\" + str(node.payoff))\n",
    "        if node.leftchild is not None or node.rightchild is not None:\n",
    "            print_tree(node.leftchild, level + 1, \"Down-- \")\n",
    "            print_tree(node.rightchild, level + 1, \"Up-- \")\n",
    "\n",
    "def dump(root: Node) -> str:\n",
    "    def _to_dict(node) -> dict:    \n",
    "        return {\n",
    "            \"stock price\": node.s,\n",
    "            \"option price\": node.f,\n",
    "            \"payoff\": node.payoff,\n",
    "            \"down\": (_to_dict(node.leftchild) if node.leftchild is not None else None),\n",
    "            \"up\": (_to_dict(node.rightchild) if node.rightchild is not None else None)\n",
    "        }\n",
    "    if root == None:\n",
    "        dict_repr = {}\n",
    "    else:\n",
    "        dict_repr = _to_dict(root)\n",
    "    return json.dumps(dict_repr)\n",
    "\n",
    "def generate_tree_ec(height, startPrice, u, d, strike, prob, rate):\n",
    "    if height < 0:\n",
    "        return None\n",
    "    \n",
    "    if height == 0:\n",
    "        root = Node(s=startPrice, payoff=max(0, startPrice-strike))\n",
    "        root.leftchild = generate_tree_ec(height - 1, startPrice*d, u, d, strike, prob, rate)\n",
    "        root.rightchild = generate_tree_ec(height - 1, startPrice*u, u, d, strike, prob, rate)\n",
    "        return root\n",
    "    else:\n",
    "        root = Node(s=startPrice, payoff=max(0, startPrice-strike))\n",
    "        root.leftchild = generate_tree_ec(height - 1, startPrice*d, u, d, strike, prob, rate)\n",
    "        root.rightchild = generate_tree_ec(height - 1, startPrice*u, u, d, strike, prob, rate)\n",
    "        root.f = round(math.exp(-rate) * ((prob*root.rightchild.payoff) + ((1-prob)*root.leftchild.payoff)), 2)\n",
    "        return root\n",
    "def generate_tree_ep(height, startPrice, u, d, strike, prob, rate):\n",
    "    if height < 0:\n",
    "        return None\n",
    "    \n",
    "    if height == 0:\n",
    "        root = Node(s=startPrice, payoff=max(0, strike-startPrice))\n",
    "        root.leftchild = generate_tree_ep(height - 1, startPrice*d, u, d, strike, prob, rate)\n",
    "        root.rightchild = generate_tree_ep(height - 1, startPrice*u, u, d, strike, prob, rate)\n",
    "        return root\n",
    "    else:\n",
    "        root = Node(s=startPrice, payoff=max(0, strike-startPrice))\n",
    "        root.leftchild = generate_tree_ep(height - 1, startPrice*d, u, d, strike, prob, rate)\n",
    "        root.rightchild = generate_tree_ep(height - 1, startPrice*u, u, d, strike, prob, rate)\n",
    "        root.f = round(math.exp(-rate) * ((prob*root.rightchild.payoff) + ((1-prob)*root.leftchild.payoff)), 2)\n",
    "        return root"
   ]
  },
  {
   "cell_type": "markdown",
   "metadata": {},
   "source": [
    "# Question 4"
   ]
  },
  {
   "cell_type": "code",
   "execution_count": 152,
   "metadata": {},
   "outputs": [
    {
     "name": "stdout",
     "output_type": "stream",
     "text": [
      "0.2\n",
      "1.2214027581601699\n",
      "0.8187307530779818\n",
      "0.7113485948425979\n"
     ]
    }
   ],
   "source": [
    "t = 1\n",
    "sigma = 0.2\n",
    "u = math.exp(sigma * math.sqrt(t))\n",
    "d = 1/u\n",
    "p = (math.exp(0.1) - d)/(u-d)\n",
    "r = 0.1\n",
    "print(sigma)\n",
    "print(u)\n",
    "print(d)\n",
    "print(p)"
   ]
  },
  {
   "cell_type": "markdown",
   "metadata": {},
   "source": [
    "### European Call"
   ]
  },
  {
   "cell_type": "code",
   "execution_count": 156,
   "metadata": {},
   "outputs": [
    {
     "name": "stdout",
     "output_type": "stream",
     "text": [
      "Root: 100, Option Price=14.25, payoff=0\n",
      "    Down-- 81.87307530779819, Option Price=0.0, payoff=0\n",
      "        Down-- 67.03200460356393, Option Price=None, payoff=0\n",
      "        Up-- 100.0, Option Price=None, payoff=0\n",
      "    Up-- 122.14027581601698, Option Price=31.66, payoff=22.14027581601698\n",
      "        Down-- 100.0, Option Price=None, payoff=0\n",
      "        Up-- 149.18246976412703, Option Price=None, payoff=49.182469764127035\n"
     ]
    }
   ],
   "source": [
    "print_tree(generate_tree_ec(2, 100, u, d, 100, p, r))"
   ]
  },
  {
   "cell_type": "markdown",
   "metadata": {},
   "source": [
    "### European Put"
   ]
  },
  {
   "cell_type": "code",
   "execution_count": 154,
   "metadata": {},
   "outputs": [
    {
     "name": "stdout",
     "output_type": "stream",
     "text": [
      "Root: 100, Option Price=4.73, payoff=0\n",
      "    Down-- 81.87307530779819, Option Price=8.61, payoff=18.12692469220181\n",
      "        Down-- 67.03200460356393, Option Price=None, payoff=32.967995396436066\n",
      "        Up-- 100.0, Option Price=None, payoff=0\n",
      "    Up-- 122.14027581601698, Option Price=0.0, payoff=0\n",
      "        Down-- 100.0, Option Price=None, payoff=0\n",
      "        Up-- 149.18246976412703, Option Price=None, payoff=0\n"
     ]
    }
   ],
   "source": [
    "print_tree(generate_tree_ep(10, 100, u, d, 100, p, r))"
   ]
  }
 ],
 "metadata": {
  "kernelspec": {
   "display_name": "base",
   "language": "python",
   "name": "python3"
  },
  "language_info": {
   "codemirror_mode": {
    "name": "ipython",
    "version": 3
   },
   "file_extension": ".py",
   "mimetype": "text/x-python",
   "name": "python",
   "nbconvert_exporter": "python",
   "pygments_lexer": "ipython3",
   "version": "3.8.8"
  }
 },
 "nbformat": 4,
 "nbformat_minor": 2
}
