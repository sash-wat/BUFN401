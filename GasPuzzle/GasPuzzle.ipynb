{
 "cells": [
  {
   "cell_type": "markdown",
   "metadata": {},
   "source": [
    "### Name: Sashwat Venkatesh"
   ]
  },
  {
   "cell_type": "code",
   "execution_count": 5,
   "metadata": {},
   "outputs": [],
   "source": [
    "import numpy as np\n",
    "import sklearn as sk\n",
    "from scipy.optimize import minimize"
   ]
  },
  {
   "cell_type": "code",
   "execution_count": 6,
   "metadata": {},
   "outputs": [
    {
     "name": "stdout",
     "output_type": "stream",
     "text": [
      "Optimal Gallons of 87 Octane: 5.000000000000002\n",
      "Optimal Gallons of 89 Octane: 4.440892098500626e-16\n",
      "Optimal Gallons of 93 Octane): 9.999999999999998\n",
      "Total Cost:  51.0\n"
     ]
    }
   ],
   "source": [
    "def cost(gallons):\n",
    "    x, y, z = gallons\n",
    "    cost = x * 3.00 + y * 3.30 + z * 3.60\n",
    "    return cost\n",
    "\n",
    "def octane(gallons):\n",
    "    x, y, z = gallons\n",
    "    weighted_octane = (x * 87 + y * 89 + z * 93) / (x + y + z)\n",
    "    return weighted_octane - 91.0\n",
    "\n",
    "def total_gallons(gallons):\n",
    "    return sum(gallons) - 15.0\n",
    "\n",
    "guess = [5, 5, 5]\n",
    "\n",
    "bounds = [(0, 15), (0, 15), (0, 15)]\n",
    "\n",
    "constraints = [{'type': 'eq', 'fun': octane},\n",
    "               {'type': 'eq', 'fun': total_gallons}]\n",
    "\n",
    "result = minimize(cost, guess, bounds=bounds, constraints=constraints)\n",
    "\n",
    "x_optimal, y_optimal, z_optimal = result.x\n",
    "\n",
    "total_cost = cost([x_optimal, y_optimal, z_optimal])\n",
    "\n",
    "print(\"Optimal Gallons of 87 Octane:\", x_optimal)\n",
    "print(\"Optimal Gallons of 89 Octane:\", y_optimal)\n",
    "print(\"Optimal Gallons of 93 Octane):\", z_optimal)\n",
    "print(\"Total Cost: \", total_cost)\n"
   ]
  },
  {
   "cell_type": "markdown",
   "metadata": {},
   "source": [
    "## Part A:\n",
    "The cheapest way to fill up is by mixing 5 gallons of 87 octane gasoline with 10 gallons of 93 octane gasoline, which would cost a total of $51.00. This results in a savings of $3.00."
   ]
  },
  {
   "cell_type": "markdown",
   "metadata": {},
   "source": [
    "## Part B:\n",
    "To connect this to options, you can see that getting the solution (in this case, 91 octane gasoline) is possible through a mixed investment that allows you to get what you want for a cheaper price, rather than paying some premium ($3.60 per gallon for 93 octane gas) for a more expensive good you don't even want."
   ]
  }
 ],
 "metadata": {
  "kernelspec": {
   "display_name": "Python 3",
   "language": "python",
   "name": "python3"
  },
  "language_info": {
   "codemirror_mode": {
    "name": "ipython",
    "version": 3
   },
   "file_extension": ".py",
   "mimetype": "text/x-python",
   "name": "python",
   "nbconvert_exporter": "python",
   "pygments_lexer": "ipython3",
   "version": "3.8.8"
  },
  "orig_nbformat": 4
 },
 "nbformat": 4,
 "nbformat_minor": 2
}
